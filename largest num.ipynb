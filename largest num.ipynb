{
 "cells": [
  {
   "cell_type": "code",
   "execution_count": null,
   "id": "b40f28ca-be9e-461b-9725-bfce1f23ee90",
   "metadata": {},
   "outputs": [],
   "source": [
    "#if_elif else statement for number\n",
    "a= int(input(\"enter a:\"))\n",
    "b= int(input(\"enter b:\"))\n",
    "if a>b:\n",
    "    print(\"largest:\",a)\n",
    "elif a<b:\n",
    "    print(\"largest:\",b)\n",
    "else:\n",
    "    print(\"both are equal\")"
   ]
  }
 ],
 "metadata": {
  "kernelspec": {
   "display_name": "Python 3 (ipykernel)",
   "language": "python",
   "name": "python3"
  },
  "language_info": {
   "codemirror_mode": {
    "name": "ipython",
    "version": 3
   },
   "file_extension": ".py",
   "mimetype": "text/x-python",
   "name": "python",
   "nbconvert_exporter": "python",
   "pygments_lexer": "ipython3",
   "version": "3.12.7"
  }
 },
 "nbformat": 4,
 "nbformat_minor": 5
}
