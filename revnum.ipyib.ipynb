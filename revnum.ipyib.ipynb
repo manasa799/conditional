{
 "cells": [
  {
   "cell_type": "code",
   "execution_count": 2,
   "id": "9904caa7",
   "metadata": {},
   "outputs": [
    {
     "name": "stdout",
     "output_type": "stream",
     "text": [
      "4\n",
      "43\n",
      "432\n",
      "4321\n"
     ]
    }
   ],
   "source": [
    "#reverse number \n",
    "num = int(input(\"enter the number\"))\n",
    "rev =0\n",
    "while num>0:\n",
    "    digit = num %10\n",
    "    rev = rev*10+digit\n",
    "    num//=10\n",
    "    print(rev)\n"
   ]
  },
  {
   "cell_type": "code",
   "execution_count": null,
   "id": "a8e971d9",
   "metadata": {},
   "outputs": [],
   "source": []
  }
 ],
 "metadata": {
  "kernelspec": {
   "display_name": "Python 3",
   "language": "python",
   "name": "python3"
  },
  "language_info": {
   "codemirror_mode": {
    "name": "ipython",
    "version": 3
   },
   "file_extension": ".py",
   "mimetype": "text/x-python",
   "name": "python",
   "nbconvert_exporter": "python",
   "pygments_lexer": "ipython3",
   "version": "3.12.9"
  }
 },
 "nbformat": 4,
 "nbformat_minor": 5
}
